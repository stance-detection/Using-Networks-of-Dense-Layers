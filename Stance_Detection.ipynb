{
 "cells": [
  {
   "cell_type": "markdown",
   "metadata": {},
   "source": [
    "## Loading the important Libraries"
   ]
  },
  {
   "cell_type": "code",
   "execution_count": 1,
   "metadata": {},
   "outputs": [],
   "source": [
    "import csv\n",
    "import math\n",
    "import matplotlib.pyplot as plt\n",
    "import numpy as np\n",
    "import random\n",
    "import re\n",
    "from collections import defaultdict\n",
    "from data.scorer import score_submission, print_confusion_matrix, score_defaults, SCORE_REPORT\n",
    "from nltk import word_tokenize\n",
    "from nltk.corpus import stopwords\n",
    "from tqdm import tqdm\n",
    "from sklearn.metrics import accuracy_score"
   ]
  },
  {
   "cell_type": "markdown",
   "metadata": {},
   "source": [
    "# Loading the contents"
   ]
  },
  {
   "cell_type": "code",
   "execution_count": 2,
   "metadata": {},
   "outputs": [],
   "source": [
    "f_bodies = open('data/train_bodies.csv', 'r', encoding='utf-8')\n",
    "csv_bodies = csv.DictReader(f_bodies)\n",
    "bodies = []\n",
    "for row in csv_bodies:\n",
    "    body_id = int(row['Body ID'])\n",
    "    if (body_id + 1) > len(bodies):\n",
    "        bodies += [None] * (body_id + 1 - len(bodies))\n",
    "    bodies[body_id] = row['articleBody']\n",
    "f_bodies.close()\n",
    "body_inverse_index = {bodies[i]: i for i in range(len(bodies))}\n",
    "\n",
    "all_unrelated, all_discuss, all_agree, all_disagree = [], [], [], []  # each article = (headline, body, stance)\n",
    "\n",
    "f_stances = open('data/train_stances.csv', 'r', encoding='utf-8')\n",
    "csv_stances = csv.DictReader(f_stances)\n",
    "for row in csv_stances:\n",
    "    body = bodies[int(row['Body ID'])]\n",
    "    if row['Stance'] == 'unrelated':\n",
    "        all_unrelated.append((row['Headline'], body, row['Stance']))\n",
    "    elif row['Stance'] == 'discuss':\n",
    "        all_discuss.append((row['Headline'], body, row['Stance']))\n",
    "    elif row['Stance'] == 'agree':\n",
    "        all_agree.append((row['Headline'], body, row['Stance']))\n",
    "    elif row['Stance'] == 'disagree':\n",
    "        all_disagree.append((row['Headline'], body, row['Stance']))\n",
    "f_stances.close()"
   ]
  },
  {
   "cell_type": "code",
   "execution_count": 3,
   "metadata": {},
   "outputs": [
    {
     "name": "stdout",
     "output_type": "stream",
     "text": [
      "\tUnrltd\tDiscuss\t Agree\tDisagree\n",
      "All\t 36545 \t 8909 \t 3678 \t 840\n",
      "Train\t 3289 \t 801 \t 331 \t 75\n",
      "Valid.\t 1097 \t 268 \t 111 \t 26\n"
     ]
    }
   ],
   "source": [
    "print('\\tUnrltd\\tDiscuss\\t Agree\\tDisagree')\n",
    "print('All\\t', len(all_unrelated), '\\t', len(all_discuss), '\\t', len(all_agree), '\\t', len(all_disagree))\n",
    "\n",
    "train_unrelated = all_unrelated[:len(all_unrelated) * 9 // 100]\n",
    "train_discuss = all_discuss[:len(all_discuss) * 9 // 100]\n",
    "train_agree = all_agree[:len(all_agree) * 9 // 100]\n",
    "train_disagree = all_disagree[:len(all_disagree) * 9 // 100]\n",
    "\n",
    "\n",
    "val_unrelated = all_unrelated[len(all_unrelated) * 9 // 100:]\n",
    "val_discuss = all_discuss[len(all_discuss) * 9 // 100:]\n",
    "val_agree = all_agree[len(all_agree) * 9 // 100:]\n",
    "val_disagree = all_disagree[len(all_disagree) * 9 // 100:]\n",
    "\n",
    "# train_unrelated = all_unrelated[:len(all_unrelated) //100]\n",
    "# train_discuss = all_discuss[:len(all_discuss) //100]\n",
    "# train_agree = all_agree[:len(all_agree) //100]\n",
    "# train_disagree = all_disagree[:len(all_disagree) //100]\n",
    "\n",
    "\n",
    "val_unrelated = all_unrelated[len(all_unrelated) * 7 // 10:]\n",
    "val_discuss = all_discuss[len(all_discuss) * 7 // 10:]\n",
    "val_agree = all_agree[len(all_agree) * 7 // 10:]\n",
    "val_disagree = all_disagree[len(all_disagree) * 7 // 10:]\n",
    "\n",
    "val_unrelated = val_unrelated[len(val_unrelated) * 9 // 10:]\n",
    "val_discuss = val_discuss[len(val_discuss) * 9 // 10:]\n",
    "val_agree = val_agree[len(val_agree) * 9 // 10:]\n",
    "val_disagree = val_disagree[len(val_disagree) * 9 // 10:]\n",
    "\n",
    "\n",
    "\n",
    "print('Train\\t', len(train_unrelated), '\\t', len(train_discuss), '\\t', len(train_agree), '\\t', len(train_disagree))\n",
    "print('Valid.\\t', len(val_unrelated), '\\t', len(val_discuss), '\\t', len(val_agree), '\\t', len(val_disagree))"
   ]
  },
  {
   "cell_type": "markdown",
   "metadata": {},
   "source": [
    "# Uniform distribution of Data"
   ]
  },
  {
   "cell_type": "code",
   "execution_count": 4,
   "metadata": {},
   "outputs": [
    {
     "name": "stdout",
     "output_type": "stream",
     "text": [
      "Train\t 3289 \t 801 \t 331 \t 75\n",
      "Valid.\t 1097 \t 268 \t 111 \t 26\n",
      "Train (Total) (4496, 3) \tValidation (Total) (1502, 3)\n",
      "\n",
      "3289 \t 801 \t 331 \t 75\n",
      "1097 \t 268 \t 111 \t 26\n"
     ]
    }
   ],
   "source": [
    "print('Train\\t', len(train_unrelated), '\\t', len(train_discuss), '\\t', len(train_agree), '\\t', len(train_disagree))\n",
    "print('Valid.\\t', len(val_unrelated), '\\t', len(val_discuss), '\\t', len(val_agree), '\\t', len(val_disagree))\n",
    "train_all = (train_unrelated + train_discuss + train_agree + train_disagree)\n",
    "\n",
    "# each article = (headline, body, stance)\n",
    "random.Random(0).shuffle(train_all)\n",
    "train_all = np.array(train_all)\n",
    "\n",
    "val_all = val_unrelated + val_discuss + val_agree + val_disagree\n",
    "random.Random(0).shuffle(val_all)\n",
    "val_all = np.array(val_all)\n",
    "\n",
    "print('Train (Total)', train_all.shape, '\\tValidation (Total)', val_all.shape)\n",
    "\n",
    "print()\n",
    "print(np.count_nonzero(train_all[:, 2] == 'unrelated'), '\\t',\n",
    "      np.count_nonzero(train_all[:, 2] == 'discuss'), '\\t',\n",
    "      np.count_nonzero(train_all[:, 2] == 'agree'), '\\t',\n",
    "      np.count_nonzero(train_all[:, 2] == 'disagree'))\n",
    "print(np.count_nonzero(val_all[:, 2] == 'unrelated'), '\\t',\n",
    "      np.count_nonzero(val_all[:, 2] == 'discuss'), '\\t',\n",
    "      np.count_nonzero(val_all[:, 2] == 'agree'), '\\t',\n",
    "      np.count_nonzero(val_all[:, 2] == 'disagree'))"
   ]
  },
  {
   "cell_type": "code",
   "execution_count": 5,
   "metadata": {},
   "outputs": [],
   "source": [
    "# Tokenise text\n",
    "pattern = re.compile(\"[^a-zA-Z0-9 ]+\")  # strip punctuation, symbols, etc.\n",
    "stop_words = set(stopwords.words('english'))\n",
    "def tokenise(text):\n",
    "    text = pattern.sub('', text.replace('\\n', ' ').replace('-', ' ').lower())\n",
    "    text = [word for word in word_tokenize(text) if word not in stop_words]\n",
    "    return text\n",
    "\n",
    "# for i in range(9):\n",
    "#     print(train_all[i, 0]);print('Tokenized form is ------>',tokenise(train_all[i, 0]))\n",
    "#     print()"
   ]
  },
  {
   "cell_type": "code",
   "execution_count": 6,
   "metadata": {},
   "outputs": [],
   "source": [
    "# Compute term-frequency of words in documents\n",
    "def doc_to_tf(text, ngram=1):\n",
    "    words = tokenise(text)\n",
    "    ret = defaultdict(float)\n",
    "    for i in range(len(words)):\n",
    "        for j in range(1, ngram+1):\n",
    "            if i - j < 0:\n",
    "                break\n",
    "            word = [words[i-k] for k in range(j)]\n",
    "            ret[word[0] if ngram == 1 else tuple(word)] += 1.0\n",
    "    return ret\n",
    "    \n",
    "# for i in range(5):\n",
    "#     print(train_all[i, 0]);print('Term frequency form is ------->',doc_to_tf(train_all[i, 0]))\n",
    "#     print()\n"
   ]
  },
  {
   "cell_type": "code",
   "execution_count": 7,
   "metadata": {},
   "outputs": [],
   "source": [
    "# print(train_all[0, 0]);print('Term frequency form is ------->',doc_to_tf(train_all[0, 0], ngram=2))"
   ]
  },
  {
   "cell_type": "code",
   "execution_count": 8,
   "metadata": {},
   "outputs": [
    {
     "data": {
      "text/plain": [
       "(8992,)"
      ]
     },
     "execution_count": 8,
     "metadata": {},
     "output_type": "execute_result"
    }
   ],
   "source": [
    "# Build corpus of article bodies and headlines in training dataset\n",
    "corpus = np.r_[train_all[:, 1], train_all[:, 0]]  # 0 to 4496 are bodies, 4496 to 8992 are headlines\n",
    "\n",
    "corpus.shape\n",
    "# print(corpus[0])\n",
    "# print(corpus[4497])"
   ]
  },
  {
   "cell_type": "code",
   "execution_count": 9,
   "metadata": {},
   "outputs": [
    {
     "name": "stderr",
     "output_type": "stream",
     "text": [
      "100%|██████████| 8992/8992 [00:08<00:00, 1048.87it/s]"
     ]
    },
    {
     "name": "stdout",
     "output_type": "stream",
     "text": [
      "[('trip', 248.0), ('bali', 115.0), ('turned', 347.0), ('dylan', 98.0), ('thomas', 187.0), ('real', 566.0), ('life', 763.0), ('spiderman', 39.0), ('21', 135.0), ('year', 1624.0)]\n"
     ]
    },
    {
     "name": "stderr",
     "output_type": "stream",
     "text": [
      "\n"
     ]
    }
   ],
   "source": [
    "# Learn idf of every word in the corpus\n",
    "df = defaultdict(float)\n",
    "for doc in tqdm(corpus):\n",
    "    words = tokenise(doc)\n",
    "    seen = set()\n",
    "    for word in words:\n",
    "        if word not in seen:\n",
    "            df[word] += 1.0\n",
    "            seen.add(word)\n",
    "\n",
    "print(list(df.items())[:10])"
   ]
  },
  {
   "cell_type": "code",
   "execution_count": 10,
   "metadata": {},
   "outputs": [
    {
     "name": "stderr",
     "output_type": "stream",
     "text": [
      "100%|██████████| 21414/21414 [00:00<00:00, 523792.68it/s]"
     ]
    },
    {
     "name": "stdout",
     "output_type": "stream",
     "text": [
      "[('trip', 4.586748879449808), ('bali', 5.350611584808151), ('turned', 4.251999296140041), ('dylan', 5.509081925779926), ('thomas', 4.867759813084566), ('real', 3.7638424721867634), ('life', 3.465633986747995), ('spiderman', 6.415322321800579), ('21', 5.191546890178463), ('year', 2.7109386811506777)]\n"
     ]
    },
    {
     "name": "stderr",
     "output_type": "stream",
     "text": [
      "\n"
     ]
    }
   ],
   "source": [
    "num_docs = corpus.shape[0]\n",
    "idf = defaultdict(float)\n",
    "for word, val in tqdm(df.items()):\n",
    "    idf[word] = np.log((1.0 + num_docs) / (1.0 + val)) + 1.0  # smoothed idf\n",
    "\n",
    "print(list(idf.items())[:10])"
   ]
  },
  {
   "cell_type": "code",
   "execution_count": 11,
   "metadata": {},
   "outputs": [
    {
     "name": "stderr",
     "output_type": "stream",
     "text": [
      "400000it [00:07, 56716.16it/s]"
     ]
    },
    {
     "name": "stdout",
     "output_type": "stream",
     "text": [
      "[-1.2879   -0.14538  -0.016613  1.1387    1.1317    0.20705  -0.47351\n",
      "  0.15898   0.67879   0.2382    0.11621   0.26053  -0.8379    1.1232\n",
      "  0.31469  -0.47904  -0.33717  -0.34492  -0.72053  -1.0543   -0.58476\n",
      " -0.42184  -0.56977  -1.1697   -0.50389  -1.4706   -0.22005   1.1314\n",
      "  1.0829   -1.5477    0.77931  -0.22865   0.33369   0.52067   0.22109\n",
      "  1.1267    0.11704   1.1647    0.5875   -0.079243  0.022386  0.90118\n",
      " -0.37459   0.82637  -0.41061  -0.95039   0.44121  -0.58558   0.12594\n",
      " -0.71778 ]\n"
     ]
    },
    {
     "name": "stderr",
     "output_type": "stream",
     "text": [
      "\n"
     ]
    }
   ],
   "source": [
    "# Load GLoVe word vectors\n",
    "f_glove = open(\"data/glove.6B.50d.txt\", \"rb\")  # download from https://nlp.stanford.edu/projects/glove/\n",
    "glove_vectors = {}\n",
    "for line in tqdm(f_glove):\n",
    "    glove_vectors[str(line.split()[0]).split(\"'\")[1]] = np.array(list(map(float, line.split()[1:])))\n",
    "\n",
    "print(glove_vectors['glove'])"
   ]
  },
  {
   "cell_type": "code",
   "execution_count": 12,
   "metadata": {},
   "outputs": [
    {
     "name": "stdout",
     "output_type": "stream",
     "text": [
      "Boko Haram claims to have German hostage, denies ceasefire [ 0.66238995 -0.20231485  0.02238153 -0.19057948  0.33594892  0.36391509\n",
      " -0.07722483  0.32337541 -0.29860956 -0.1425318   0.26924971 -0.45753202\n",
      " -0.45144652 -0.17819528  0.39194451  0.05272324  0.24158074 -0.04484998\n",
      "  0.09402494  0.55394359  0.11073741  0.54832118 -0.1604362   0.32599829\n",
      " -0.34731733 -1.41175663  0.01822305 -0.24954153 -0.06021231  0.39575822\n",
      "  1.70649153 -0.55443727 -0.91826336  0.2360565  -0.2037994  -0.37732488\n",
      " -0.03705008 -0.90433473 -0.48686358  0.05834009  0.26639018 -0.22978682\n",
      "  0.39911576 -0.42832519  0.44631194 -0.53336104 -0.56374759  0.76702037\n",
      " -0.12329446 -0.49944507]\n",
      "ISIS Militant “Jihadi John” Identified As Young West Londoner [ 0.04856468  0.12725143  0.18448444 -0.47197083  0.62240648  0.09067463\n",
      " -0.66387388 -0.09484841 -0.05410015 -0.06212942 -0.10961955 -0.10941869\n",
      " -0.30243727  0.16762591 -0.23097195 -0.10332358  0.38766934 -0.10083799\n",
      " -0.18275591  0.54325033 -0.3961248   0.44608015  0.13005091  0.66906934\n",
      " -0.16695374 -1.10759589 -0.16720767 -0.45483661 -0.21506927  0.18677229\n",
      "  1.42617167 -0.44552358  0.10764979 -0.14663273  0.21029368 -0.02155877\n",
      " -0.24993573 -0.41202348 -0.2697181   0.02682131  0.11429299  0.19346048\n",
      " -0.21870387  0.10235629  0.91520247 -0.2775301  -0.33141667 -0.13043842\n",
      " -0.16606956  0.00684628]\n"
     ]
    }
   ],
   "source": [
    "# Convert a document to GloVe vectors, by computing tf-idf of each word * GLoVe of word / total tf-idf for document\n",
    "def doc_to_glove(doc):\n",
    "    doc_tf = doc_to_tf(doc)\n",
    "    doc_tf_idf = defaultdict(float)\n",
    "    for word, tf in doc_tf.items():\n",
    "        doc_tf_idf[word] = tf * idf[word]\n",
    "        \n",
    "    doc_vector = np.zeros(glove_vectors['glove'].shape[0])\n",
    "    if np.sum(list(doc_tf_idf.values())) == 0.0:  # edge case: document is empty\n",
    "        return doc_vector\n",
    "    \n",
    "    for word, tf_idf in doc_tf_idf.items():\n",
    "        if word in glove_vectors:\n",
    "            doc_vector += glove_vectors[word] * tf_idf\n",
    "    doc_vector /= np.sum(list(doc_tf_idf.values()))\n",
    "    return doc_vector\n",
    "\n",
    "for i in range(2):\n",
    "    print(train_all[i, 0], doc_to_glove(train_all[i, 0]))"
   ]
  },
  {
   "cell_type": "code",
   "execution_count": 13,
   "metadata": {},
   "outputs": [
    {
     "name": "stdout",
     "output_type": "stream",
     "text": [
      "0.516338632721861 unrelated\n",
      "0.6147001036215263 unrelated\n",
      "0.6206811818772908 unrelated\n",
      "0.6741951941010255 unrelated\n",
      "0.6797658918977083 unrelated\n",
      "0.7887769480600915 unrelated\n",
      "0.6526468931922231 unrelated\n",
      "0.7330202149965123 unrelated\n",
      "0.7144093706686057 unrelated\n",
      "0.6221969807577564 unrelated\n",
      "0.7302817243230582 ['hoax', 'banksy', 'arrested', 'london', 'story', 'dupes', 'internet'] ['thousands', 'social', 'media', 'users', 'distributing', 'unverified', 'photo', 'claims', 'show', 'body', 'isis', 'leader', 'abu', 'bakr', 'al', 'baghdadi', 'purportedly', 'killed', 'us', 'airstrikes', 'three', 'senior', 'members', 'isis', 'including', 'aide', 'al', 'baghdadi', 'also', 'killed', 'us', 'air', 'strikes', 'talking', 'nbc', 'news', 'senior', 'iraqi', 'official', 'confirmed', 'deaths', 'thursday', 'strike', 'isis', 'stronghold', 'mosul', 'killed', 'abu', 'hajar', 'al', 'sufi', 'aide', 'al', 'baghdadi', 'well', 'explosives', 'operative', 'military', 'leader', 'nearby', 'tal', 'afar', 'source', 'said', 'al', 'arabiya', 'cited', 'iraqi', 'defence', 'ministry', 'saying', 'baghdadis', 'aide', 'killed', 'pentagon', 'spokesman', 'col', 'steve', 'warren', 'could', 'confirm', 'deaths', 'said', 'isis', 'leaders', 'targeted', 'added', 'isis', 'leaders', 'embedded', 'inside', 'troop', 'formations', 'likely', 'killed', 'us', 'carrying', 'airstrikes', 'across', 'north', 'iraq', 'brutal', 'terrorists', 'isis', 'gained', 'ground', 'murderous', 'sweep', 'june', 'number', 'news', 'outlets', 'websites', 'published', 'unverified', 'photo', 'news', 'death', 'al', 'baghdadi', 'us', 'airstrikes']\n"
     ]
    }
   ],
   "source": [
    "# Compute cosine similarity of GLoVe vectors for all headline-body pairs\n",
    "def dot_product(vec1, vec2):\n",
    "    sigma = 0.0\n",
    "    for i in range(vec1.shape[0]):  # assume vec1 and vec2 has same shape\n",
    "        sigma += vec1[i] * vec2[i]\n",
    "    return sigma\n",
    "    \n",
    "def magnitude(vec):\n",
    "    return np.sqrt(np.sum(np.square(vec)))\n",
    "        \n",
    "def cosine_similarity(doc):\n",
    "    headline_vector = doc_to_glove(doc[0])\n",
    "    body_vector = doc_to_glove(doc[1])\n",
    "    \n",
    "    if magnitude(headline_vector) == 0.0 or magnitude(body_vector) == 0.0:  # edge case: document is empty\n",
    "        return 0.0\n",
    "    \n",
    "    return dot_product(headline_vector, body_vector) / (magnitude(headline_vector) * magnitude(body_vector))\n",
    "\n",
    "for i in range(10):\n",
    "    # unrelated should have lower than rest\n",
    "    print(cosine_similarity(train_all[i]), train_all[i, 2])\n",
    "print(cosine_similarity(train_all[27069//100]), tokenise(train_all[27069//100, 0]), tokenise(train_all[2706//100, 1]))  # edge case"
   ]
  },
  {
   "cell_type": "code",
   "execution_count": 14,
   "metadata": {},
   "outputs": [],
   "source": [
    "# Compute the KL-Divergence of language model (LM) representations of the headline and the body\n",
    "def divergence(lm1, lm2):\n",
    "    sigma = 0.0\n",
    "    for i in range(lm1.shape[0]):  # assume lm1 and lm2 has same shape\n",
    "        sigma += lm1[i] * np.log(lm1[i] / lm2[i])\n",
    "    return sigma\n",
    "\n",
    "def kl_divergence(doc, eps=0.1):\n",
    "    # Convert headline and body to 1-gram representations\n",
    "    tf_headline = doc_to_tf(doc[0])\n",
    "    tf_body = doc_to_tf(doc[1])\n",
    "    \n",
    "    # Convert dictionary tf representations to vectors (make sure columns match to the same word)\n",
    "    words = set(tf_headline.keys()).union(set(tf_body.keys()))\n",
    "    vec_headline, vec_body = np.zeros(len(words)), np.zeros(len(words))\n",
    "    i = 0\n",
    "    for word in words:\n",
    "        vec_headline[i] += tf_headline[word]\n",
    "        vec_body[i] = tf_body[word]\n",
    "        i += 1\n",
    "    \n",
    "    # Compute a simple 1-gram language model of headline and body\n",
    "    lm_headline = vec_headline + eps\n",
    "    lm_headline /= np.sum(lm_headline)\n",
    "    lm_body = vec_body + eps\n",
    "    lm_body /= np.sum(lm_body)\n",
    "    \n",
    "    # Return KL-divergence of both language models\n",
    "    return divergence(lm_headline, lm_body)\n",
    "\n",
    "# for i in range(10):\n",
    "#     # unrelated should have higher than rest\n",
    "#     print(kl_divergence(train_all[i]), train_all[i, 2])\n",
    "# print(kl_divergence(train_all[27069//100]), tokenise(train_all[27069//100, 0]), tokenise(train_all[27069//100, 1]))  # edge case"
   ]
  },
  {
   "cell_type": "code",
   "execution_count": 15,
   "metadata": {},
   "outputs": [
    {
     "name": "stdout",
     "output_type": "stream",
     "text": [
      "0.0 unrelated\n",
      "0.0 unrelated\n",
      "0.1729008805195721 unrelated\n",
      "0.0 unrelated\n",
      "0.1109609842438206 unrelated\n",
      "0.0 unrelated\n",
      "0.0 unrelated\n",
      "0.1820941643725163 unrelated\n",
      "0.0 unrelated\n",
      "0.0 unrelated\n"
     ]
    }
   ],
   "source": [
    "# Other feature 1\n",
    "def ngram_overlap(doc):\n",
    "    # Returns how many times n-grams (up to 3-gram) that occur in the article's headline occur on the article's body.\n",
    "    tf_headline = doc_to_tf(doc[0], ngram=3)\n",
    "    tf_body = doc_to_tf(doc[1], ngram=3)\n",
    "    matches = 0.0\n",
    "    for words in tf_headline.keys():\n",
    "        if words in tf_body:\n",
    "            matches += tf_body[words]\n",
    "    return np.power((matches / len(tokenise(doc[1]))), 1 / np.e)  # normalise for document length\n",
    "\n",
    "for i in range(10):\n",
    "    # unrelated should have lower than rest\n",
    "    print(ngram_overlap(train_all[i]), train_all[i, 2])"
   ]
  },
  {
   "cell_type": "code",
   "execution_count": 16,
   "metadata": {},
   "outputs": [],
   "source": [
    "# Define function to convert (headline, body) to feature vectors for each document\n",
    "ftrs = [cosine_similarity, kl_divergence, ngram_overlap]\n",
    "def to_feature_array(doc):\n",
    "    vec = np.array([0.0] * len(ftrs))\n",
    "    for i in range(len(ftrs)):\n",
    "        vec[i] = ftrs[i](doc)\n",
    "    return vec\n",
    "\n"
   ]
  },
  {
   "cell_type": "code",
   "execution_count": 17,
   "metadata": {},
   "outputs": [
    {
     "name": "stderr",
     "output_type": "stream",
     "text": [
      "100%|██████████| 4496/4496 [00:42<00:00, 106.76it/s]\n",
      "  1%|          | 12/1502 [00:00<00:15, 97.98it/s]"
     ]
    },
    {
     "name": "stdout",
     "output_type": "stream",
     "text": [
      "[[0.51633863 1.58727138 0.        ]\n",
      " [0.6147001  1.92115372 0.        ]\n",
      " [0.62068118 1.44675639 0.17290088]\n",
      " [0.67419519 1.57956287 0.        ]\n",
      " [0.67976589 1.18411357 0.11096098]\n",
      " [0.78877695 1.48866337 0.        ]\n",
      " [0.65264689 1.11588282 0.        ]\n",
      " [0.73302021 1.4365906  0.18209416]\n",
      " [0.71440937 1.51485019 0.        ]\n",
      " [0.62219698 1.60923352 0.        ]]\n"
     ]
    },
    {
     "name": "stderr",
     "output_type": "stream",
     "text": [
      "100%|██████████| 1502/1502 [00:13<00:00, 109.91it/s]"
     ]
    },
    {
     "name": "stdout",
     "output_type": "stream",
     "text": [
      "[[0.61968955 2.24638509 0.        ]\n",
      " [0.55638816 1.36953941 0.        ]\n",
      " [0.79253648 0.55102385 0.29848116]\n",
      " [0.53879465 1.16077427 0.        ]\n",
      " [0.72074527 1.55334888 0.        ]\n",
      " [0.45542955 1.48772752 0.        ]\n",
      " [0.51559549 1.26445998 0.        ]\n",
      " [0.61649085 2.2015359  0.        ]\n",
      " [0.46606249 1.3391045  0.        ]\n",
      " [0.82703033 0.80797574 0.19607152]]\n"
     ]
    },
    {
     "name": "stderr",
     "output_type": "stream",
     "text": [
      "\n"
     ]
    }
   ],
   "source": [
    "# Initialise X (matrix of feature vectors) for train dataset\n",
    "x_train = np.array([to_feature_array(doc) for doc in tqdm(train_all)])\n",
    "print(x_train[:10])\n",
    "# Initialise X (matrix of feature vectors) for train dataset\n",
    "x_test = np.array([to_feature_array(doc) for doc in tqdm(val_all)])\n",
    "print(x_test[:10])"
   ]
  },
  {
   "cell_type": "code",
   "execution_count": 18,
   "metadata": {},
   "outputs": [],
   "source": [
    "# Define label <-> int mappings for y\n",
    "label_to_int = {'agree': 0, 'disagree': 1, 'discuss': 2, 'unrelated': 3}\n",
    "int_to_label = ['agree', 'disagree', 'discuss', 'unrelated']\n",
    "\n",
    "# Initialise Y (gold output vector) for train dataset\n",
    "y_train = np.array([label_to_int[i] for i in train_all[:, 2]])\n",
    "y_test = np.array([label_to_int[i] for i in val_all[:, 2]])\n"
   ]
  },
  {
   "cell_type": "code",
   "execution_count": 19,
   "metadata": {
    "scrolled": true
   },
   "outputs": [
    {
     "name": "stdout",
     "output_type": "stream",
     "text": [
      "[('g', 'agree'), ('r', 'disagree'), ('b', 'discuss'), ('y', 'unrelated')]\n"
     ]
    },
    {
     "data": {
      "image/png": "[encoded data removed]",
      "text/plain": [
       "<Figure size 432x288 with 1 Axes>"
      ]
     },
     "metadata": {
      "needs_background": "light"
     },
     "output_type": "display_data"
    }
   ],
   "source": [
    "# Plot GLoVe distance vs KL-Divergence on a coloured scatter plot with different colours for each label\n",
    "colours = np.array(['g', 'r', 'b', 'y'])\n",
    "plt.scatter(list(x_train[:, 0]), list(x_train[:, 1]), c=colours[y_train])\n",
    "plt.xlabel('Cosine Similarity of GLoVe vectors')\n",
    "plt.ylabel('KL Divergence of Unigram LMs')\n",
    "print([(colours[i], int_to_label[i]) for i in range(len(int_to_label))])\n",
    "plt.show()"
   ]
  },
  {
   "cell_type": "code",
   "execution_count": 20,
   "metadata": {},
   "outputs": [
    {
     "name": "stdout",
     "output_type": "stream",
     "text": [
      "(4496,)\n",
      "(1502,)\n",
      "[3 3 3 3 3 3 3 3 3 3]\n",
      "[3 3 2 3 3 3 3 3 3 3]\n"
     ]
    }
   ],
   "source": [
    "print(y_train.shape)\n",
    "print(y_test.shape)\n",
    "print(y_train[:10])\n",
    "print(y_test[:10])"
   ]
  },
  {
   "cell_type": "code",
   "execution_count": 21,
   "metadata": {},
   "outputs": [
    {
     "name": "stdout",
     "output_type": "stream",
     "text": [
      "(array([], dtype=int64), array([], dtype=int64))\n",
      "(array([], dtype=int64), array([], dtype=int64))\n",
      "(4096, 3)\n",
      "(4096,)\n"
     ]
    }
   ],
   "source": [
    "# Check integrity of X and Y\n",
    "print(np.where(np.isnan(x_train)))\n",
    "print(np.where(np.isfinite(x_train) == False))\n",
    "x_train = x_train[:4096]\n",
    "y_train = y_train[:4096]\n",
    "print(x_train.shape)\n",
    "print(y_train.shape)"
   ]
  },
  {
   "cell_type": "code",
   "execution_count": 24,
   "metadata": {},
   "outputs": [
    {
     "data": {
      "text/plain": [
       "(4096, 4)"
      ]
     },
     "execution_count": 24,
     "metadata": {},
     "output_type": "execute_result"
    }
   ],
   "source": [
    "import pandas as pd\n",
    "data_train = pd.DataFrame(x_train,columns=['tfidf','kl_divergence','n_gram'])\n",
    "data_train['y_out'] = y_train\n",
    "\n",
    "data_train.head(10)\n",
    "data_train.shape"
   ]
  },
  {
   "cell_type": "code",
   "execution_count": 30,
   "metadata": {},
   "outputs": [
    {
     "data": {
      "text/plain": [
       "(1502, 4)"
      ]
     },
     "execution_count": 30,
     "metadata": {},
     "output_type": "execute_result"
    }
   ],
   "source": [
    "\n",
    "data_test = pd.DataFrame(x_test,columns=['tfidf','kl_divergence','n_gram'])\n",
    "data_test['y_out'] = y_test\n",
    "data_test.shape"
   ]
  },
  {
   "cell_type": "code",
   "execution_count": 35,
   "metadata": {},
   "outputs": [],
   "source": [
    "data = pd.concat([data_train, data_test], axis=0)\n",
    "data.to_csv('features.csv',index=False)"
   ]
  },
  {
   "cell_type": "code",
   "execution_count": 36,
   "metadata": {},
   "outputs": [
    {
     "data": {
      "text/html": [
       "<div>\n",
       "<style scoped>\n",
       "    .dataframe tbody tr th:only-of-type {\n",
       "        vertical-align: middle;\n",
       "    }\n",
       "\n",
       "    .dataframe tbody tr th {\n",
       "        vertical-align: top;\n",
       "    }\n",
       "\n",
       "    .dataframe thead th {\n",
       "        text-align: right;\n",
       "    }\n",
       "</style>\n",
       "<table border=\"1\" class=\"dataframe\">\n",
       "  <thead>\n",
       "    <tr style=\"text-align: right;\">\n",
       "      <th></th>\n",
       "      <th>tfidf</th>\n",
       "      <th>kl_divergence</th>\n",
       "      <th>n_gram</th>\n",
       "      <th>y_out</th>\n",
       "    </tr>\n",
       "  </thead>\n",
       "  <tbody>\n",
       "    <tr>\n",
       "      <th>0</th>\n",
       "      <td>0.516339</td>\n",
       "      <td>1.587271</td>\n",
       "      <td>0.000000</td>\n",
       "      <td>3</td>\n",
       "    </tr>\n",
       "    <tr>\n",
       "      <th>1</th>\n",
       "      <td>0.614700</td>\n",
       "      <td>1.921154</td>\n",
       "      <td>0.000000</td>\n",
       "      <td>3</td>\n",
       "    </tr>\n",
       "    <tr>\n",
       "      <th>2</th>\n",
       "      <td>0.620681</td>\n",
       "      <td>1.446756</td>\n",
       "      <td>0.172901</td>\n",
       "      <td>3</td>\n",
       "    </tr>\n",
       "    <tr>\n",
       "      <th>3</th>\n",
       "      <td>0.674195</td>\n",
       "      <td>1.579563</td>\n",
       "      <td>0.000000</td>\n",
       "      <td>3</td>\n",
       "    </tr>\n",
       "    <tr>\n",
       "      <th>4</th>\n",
       "      <td>0.679766</td>\n",
       "      <td>1.184114</td>\n",
       "      <td>0.110961</td>\n",
       "      <td>3</td>\n",
       "    </tr>\n",
       "    <tr>\n",
       "      <th>5</th>\n",
       "      <td>0.788777</td>\n",
       "      <td>1.488663</td>\n",
       "      <td>0.000000</td>\n",
       "      <td>3</td>\n",
       "    </tr>\n",
       "    <tr>\n",
       "      <th>6</th>\n",
       "      <td>0.652647</td>\n",
       "      <td>1.115883</td>\n",
       "      <td>0.000000</td>\n",
       "      <td>3</td>\n",
       "    </tr>\n",
       "    <tr>\n",
       "      <th>7</th>\n",
       "      <td>0.733020</td>\n",
       "      <td>1.436591</td>\n",
       "      <td>0.182094</td>\n",
       "      <td>3</td>\n",
       "    </tr>\n",
       "    <tr>\n",
       "      <th>8</th>\n",
       "      <td>0.714409</td>\n",
       "      <td>1.514850</td>\n",
       "      <td>0.000000</td>\n",
       "      <td>3</td>\n",
       "    </tr>\n",
       "    <tr>\n",
       "      <th>9</th>\n",
       "      <td>0.622197</td>\n",
       "      <td>1.609234</td>\n",
       "      <td>0.000000</td>\n",
       "      <td>3</td>\n",
       "    </tr>\n",
       "  </tbody>\n",
       "</table>\n",
       "</div>"
      ],
      "text/plain": [
       "      tfidf  kl_divergence    n_gram  y_out\n",
       "0  0.516339       1.587271  0.000000      3\n",
       "1  0.614700       1.921154  0.000000      3\n",
       "2  0.620681       1.446756  0.172901      3\n",
       "3  0.674195       1.579563  0.000000      3\n",
       "4  0.679766       1.184114  0.110961      3\n",
       "5  0.788777       1.488663  0.000000      3\n",
       "6  0.652647       1.115883  0.000000      3\n",
       "7  0.733020       1.436591  0.182094      3\n",
       "8  0.714409       1.514850  0.000000      3\n",
       "9  0.622197       1.609234  0.000000      3"
      ]
     },
     "execution_count": 36,
     "metadata": {},
     "output_type": "execute_result"
    }
   ],
   "source": [
    "df = pd.read_csv('features.csv')\n",
    "df.head(10)"
   ]
  },
  {
   "cell_type": "code",
   "execution_count": null,
   "metadata": {},
   "outputs": [],
   "source": []
  },
  {
   "cell_type": "code",
   "execution_count": null,
   "metadata": {},
   "outputs": [],
   "source": []
  }
 ],
 "metadata": {
  "kernelspec": {
   "display_name": "Python 3",
   "language": "python",
   "name": "python3"
  },
  "language_info": {
   "codemirror_mode": {
    "name": "ipython",
    "version": 3
   },
   "file_extension": ".py",
   "mimetype": "text/x-python",
   "name": "python",
   "nbconvert_exporter": "python",
   "pygments_lexer": "ipython3",
   "version": "3.7.3"
  }
 },
 "nbformat": 4,
 "nbformat_minor": 2
}
