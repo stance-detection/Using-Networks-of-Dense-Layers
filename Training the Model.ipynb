{
 "cells": [
  {
   "cell_type": "code",
   "execution_count": 1,
   "metadata": {},
   "outputs": [],
   "source": [
    "import pandas as pd"
   ]
  },
  {
   "cell_type": "code",
   "execution_count": 2,
   "metadata": {},
   "outputs": [
    {
     "data": {
      "text/html": [
       "<div>\n",
       "<style scoped>\n",
       "    .dataframe tbody tr th:only-of-type {\n",
       "        vertical-align: middle;\n",
       "    }\n",
       "\n",
       "    .dataframe tbody tr th {\n",
       "        vertical-align: top;\n",
       "    }\n",
       "\n",
       "    .dataframe thead th {\n",
       "        text-align: right;\n",
       "    }\n",
       "</style>\n",
       "<table border=\"1\" class=\"dataframe\">\n",
       "  <thead>\n",
       "    <tr style=\"text-align: right;\">\n",
       "      <th></th>\n",
       "      <th>tfidf</th>\n",
       "      <th>kl_divergence</th>\n",
       "      <th>n_gram</th>\n",
       "      <th>y_out</th>\n",
       "    </tr>\n",
       "  </thead>\n",
       "  <tbody>\n",
       "    <tr>\n",
       "      <th>0</th>\n",
       "      <td>0.516339</td>\n",
       "      <td>1.587271</td>\n",
       "      <td>0.000000</td>\n",
       "      <td>3</td>\n",
       "    </tr>\n",
       "    <tr>\n",
       "      <th>1</th>\n",
       "      <td>0.614700</td>\n",
       "      <td>1.921154</td>\n",
       "      <td>0.000000</td>\n",
       "      <td>3</td>\n",
       "    </tr>\n",
       "    <tr>\n",
       "      <th>2</th>\n",
       "      <td>0.620681</td>\n",
       "      <td>1.446756</td>\n",
       "      <td>0.172901</td>\n",
       "      <td>3</td>\n",
       "    </tr>\n",
       "    <tr>\n",
       "      <th>3</th>\n",
       "      <td>0.674195</td>\n",
       "      <td>1.579563</td>\n",
       "      <td>0.000000</td>\n",
       "      <td>3</td>\n",
       "    </tr>\n",
       "    <tr>\n",
       "      <th>4</th>\n",
       "      <td>0.679766</td>\n",
       "      <td>1.184114</td>\n",
       "      <td>0.110961</td>\n",
       "      <td>3</td>\n",
       "    </tr>\n",
       "  </tbody>\n",
       "</table>\n",
       "</div>"
      ],
      "text/plain": [
       "      tfidf  kl_divergence    n_gram  y_out\n",
       "0  0.516339       1.587271  0.000000      3\n",
       "1  0.614700       1.921154  0.000000      3\n",
       "2  0.620681       1.446756  0.172901      3\n",
       "3  0.674195       1.579563  0.000000      3\n",
       "4  0.679766       1.184114  0.110961      3"
      ]
     },
     "execution_count": 2,
     "metadata": {},
     "output_type": "execute_result"
    }
   ],
   "source": [
    "data = pd.read_csv('features.csv')\n",
    "data.head()"
   ]
  },
  {
   "cell_type": "code",
   "execution_count": 3,
   "metadata": {},
   "outputs": [
    {
     "data": {
      "text/plain": [
       "(5598, 4)"
      ]
     },
     "execution_count": 3,
     "metadata": {},
     "output_type": "execute_result"
    }
   ],
   "source": [
    "data.shape"
   ]
  },
  {
   "cell_type": "code",
   "execution_count": 4,
   "metadata": {},
   "outputs": [
    {
     "name": "stderr",
     "output_type": "stream",
     "text": [
      "Using TensorFlow backend.\n"
     ]
    }
   ],
   "source": [
    "from keras.models import Sequential\n",
    "from keras.layers import Dense\n",
    "from keras.layers import GlobalAveragePooling1D\n",
    "from keras.layers import Embedding"
   ]
  },
  {
   "cell_type": "code",
   "execution_count": 5,
   "metadata": {},
   "outputs": [],
   "source": [
    "model = Sequential()\n",
    "import tensorflow as tf"
   ]
  },
  {
   "cell_type": "code",
   "execution_count": 6,
   "metadata": {},
   "outputs": [
    {
     "name": "stdout",
     "output_type": "stream",
     "text": [
      "WARNING:tensorflow:From /home/abhinav/anaconda3/lib/python3.7/site-packages/tensorflow/python/framework/op_def_library.py:263: colocate_with (from tensorflow.python.framework.ops) is deprecated and will be removed in a future version.\n",
      "Instructions for updating:\n",
      "Colocations handled automatically by placer.\n"
     ]
    }
   ],
   "source": [
    "model.add(Dense(32,activation = 'relu',input_dim=3))\n",
    "model.add(Dense(units = 128,activation = 'relu'))\n",
    "model.add(Dense(units = 128,activation = 'relu'))\n",
    "model.add(Dense(units = 128,activation = 'relu'))\n",
    "model.add(Dense(units = 128,activation = 'relu'))\n",
    "model.add(Dense(units = 64,activation = 'relu'))\n",
    "model.add(Dense(units = 64,activation = 'relu'))\n",
    "model.add(Dense(units = 32,activation = 'relu'))\n",
    "model.add(Dense(units = 32,activation = 'relu'))\n",
    "model.add(Dense(units = 16,activation = 'relu'))\n",
    "model.add(Dense(units = 16,activation = 'relu'))\n",
    "model.add(Dense(units = 4,activation = 'sigmoid'))\n",
    "\n",
    "model.compile(optimizer = 'adam' , loss = 'sparse_categorical_crossentropy',metrics= ['accuracy'])"
   ]
  },
  {
   "cell_type": "code",
   "execution_count": 7,
   "metadata": {},
   "outputs": [],
   "source": [
    "model.compile(optimizer='adam',\n",
    "              loss='sparse_categorical_crossentropy',\n",
    "              metrics=['acc'])"
   ]
  },
  {
   "cell_type": "code",
   "execution_count": 8,
   "metadata": {},
   "outputs": [
    {
     "name": "stdout",
     "output_type": "stream",
     "text": [
      "_________________________________________________________________\n",
      "Layer (type)                 Output Shape              Param #   \n",
      "=================================================================\n",
      "dense_1 (Dense)              (None, 32)                128       \n",
      "_________________________________________________________________\n",
      "dense_2 (Dense)              (None, 128)               4224      \n",
      "_________________________________________________________________\n",
      "dense_3 (Dense)              (None, 128)               16512     \n",
      "_________________________________________________________________\n",
      "dense_4 (Dense)              (None, 128)               16512     \n",
      "_________________________________________________________________\n",
      "dense_5 (Dense)              (None, 128)               16512     \n",
      "_________________________________________________________________\n",
      "dense_6 (Dense)              (None, 64)                8256      \n",
      "_________________________________________________________________\n",
      "dense_7 (Dense)              (None, 64)                4160      \n",
      "_________________________________________________________________\n",
      "dense_8 (Dense)              (None, 32)                2080      \n",
      "_________________________________________________________________\n",
      "dense_9 (Dense)              (None, 32)                1056      \n",
      "_________________________________________________________________\n",
      "dense_10 (Dense)             (None, 16)                528       \n",
      "_________________________________________________________________\n",
      "dense_11 (Dense)             (None, 16)                272       \n",
      "_________________________________________________________________\n",
      "dense_12 (Dense)             (None, 4)                 68        \n",
      "=================================================================\n",
      "Total params: 70,308\n",
      "Trainable params: 70,308\n",
      "Non-trainable params: 0\n",
      "_________________________________________________________________\n"
     ]
    }
   ],
   "source": [
    "model.summary()"
   ]
  },
  {
   "cell_type": "code",
   "execution_count": 9,
   "metadata": {},
   "outputs": [
    {
     "name": "stdout",
     "output_type": "stream",
     "text": [
      "(5598, 3)\n",
      "(5598,)\n"
     ]
    }
   ],
   "source": [
    "y_pred = data['y_out']\n",
    "data.drop(['y_out'],axis=1,inplace=True)\n",
    "data.head(10)\n",
    "print(data.shape)\n",
    "print(y_pred.shape)"
   ]
  },
  {
   "cell_type": "code",
   "execution_count": 10,
   "metadata": {
    "scrolled": true
   },
   "outputs": [],
   "source": [
    "from sklearn.model_selection import train_test_split as tts\n",
    "xtrain,xtest,ytrain,ytest = tts(data,y_pred,test_size=0.2,random_state = 0)"
   ]
  },
  {
   "cell_type": "code",
   "execution_count": 11,
   "metadata": {},
   "outputs": [
    {
     "name": "stdout",
     "output_type": "stream",
     "text": [
      "WARNING:tensorflow:From /home/abhinav/anaconda3/lib/python3.7/site-packages/tensorflow/python/ops/math_ops.py:3066: to_int32 (from tensorflow.python.ops.math_ops) is deprecated and will be removed in a future version.\n",
      "Instructions for updating:\n",
      "Use tf.cast instead.\n",
      "Train on 4478 samples, validate on 4478 samples\n",
      "Epoch 1/50\n",
      "4478/4478 [==============================] - 1s 155us/step - loss: 1.3724 - acc: 0.5911 - val_loss: 1.3388 - val_acc: 0.7329\n",
      "Epoch 2/50\n",
      "4478/4478 [==============================] - 0s 25us/step - loss: 1.2564 - acc: 0.7329 - val_loss: 1.0825 - val_acc: 0.7329\n",
      "Epoch 3/50\n",
      "4478/4478 [==============================] - 0s 24us/step - loss: 0.9737 - acc: 0.7329 - val_loss: 0.7991 - val_acc: 0.7329\n",
      "Epoch 4/50\n",
      "4478/4478 [==============================] - 0s 23us/step - loss: 0.7487 - acc: 0.7329 - val_loss: 0.6909 - val_acc: 0.7329\n",
      "Epoch 5/50\n",
      "4478/4478 [==============================] - 0s 23us/step - loss: 0.6808 - acc: 0.7329 - val_loss: 0.6391 - val_acc: 0.7329\n",
      "Epoch 6/50\n",
      "4478/4478 [==============================] - 0s 27us/step - loss: 0.6192 - acc: 0.7329 - val_loss: 0.5884 - val_acc: 0.7329\n",
      "Epoch 7/50\n",
      "4478/4478 [==============================] - 0s 25us/step - loss: 0.5689 - acc: 0.7329 - val_loss: 0.5476 - val_acc: 0.7329\n",
      "Epoch 8/50\n",
      "4478/4478 [==============================] - 0s 25us/step - loss: 0.5388 - acc: 0.7329 - val_loss: 0.5216 - val_acc: 0.7329\n",
      "Epoch 9/50\n",
      "4478/4478 [==============================] - 0s 24us/step - loss: 0.5089 - acc: 0.7470 - val_loss: 0.4876 - val_acc: 0.7738\n",
      "Epoch 10/50\n",
      "4478/4478 [==============================] - 0s 25us/step - loss: 0.4741 - acc: 0.7778 - val_loss: 0.4599 - val_acc: 0.7794\n",
      "Epoch 11/50\n",
      "4478/4478 [==============================] - 0s 24us/step - loss: 0.4426 - acc: 0.7836 - val_loss: 0.4242 - val_acc: 0.7849\n",
      "Epoch 12/50\n",
      "4478/4478 [==============================] - 0s 26us/step - loss: 0.4102 - acc: 0.7865 - val_loss: 0.3914 - val_acc: 0.7892\n",
      "Epoch 13/50\n",
      "4478/4478 [==============================] - 0s 25us/step - loss: 0.3832 - acc: 0.8280 - val_loss: 0.3698 - val_acc: 0.8776\n",
      "Epoch 14/50\n",
      "4478/4478 [==============================] - 0s 24us/step - loss: 0.3626 - acc: 0.8794 - val_loss: 0.3568 - val_acc: 0.8774\n",
      "Epoch 15/50\n",
      "4478/4478 [==============================] - 0s 25us/step - loss: 0.3587 - acc: 0.8765 - val_loss: 0.3543 - val_acc: 0.8763\n",
      "Epoch 16/50\n",
      "4478/4478 [==============================] - 0s 26us/step - loss: 0.3469 - acc: 0.8799 - val_loss: 0.3432 - val_acc: 0.8803\n",
      "Epoch 17/50\n",
      "4478/4478 [==============================] - 0s 27us/step - loss: 0.3439 - acc: 0.8792 - val_loss: 0.3396 - val_acc: 0.8794\n",
      "Epoch 18/50\n",
      "4478/4478 [==============================] - 0s 25us/step - loss: 0.3425 - acc: 0.8783 - val_loss: 0.3394 - val_acc: 0.8799\n",
      "Epoch 19/50\n",
      "4478/4478 [==============================] - 0s 27us/step - loss: 0.3386 - acc: 0.8792 - val_loss: 0.3402 - val_acc: 0.8801\n",
      "Epoch 20/50\n",
      "4478/4478 [==============================] - 0s 24us/step - loss: 0.3399 - acc: 0.8801 - val_loss: 0.3470 - val_acc: 0.8781\n",
      "Epoch 21/50\n",
      "4478/4478 [==============================] - 0s 26us/step - loss: 0.3387 - acc: 0.8796 - val_loss: 0.3413 - val_acc: 0.8803\n",
      "Epoch 22/50\n",
      "4478/4478 [==============================] - 0s 26us/step - loss: 0.3381 - acc: 0.8799 - val_loss: 0.3338 - val_acc: 0.8801\n",
      "Epoch 23/50\n",
      "4478/4478 [==============================] - 0s 24us/step - loss: 0.3346 - acc: 0.8803 - val_loss: 0.3333 - val_acc: 0.8805\n",
      "Epoch 24/50\n",
      "4478/4478 [==============================] - 0s 26us/step - loss: 0.3342 - acc: 0.8790 - val_loss: 0.3350 - val_acc: 0.8810\n",
      "Epoch 25/50\n",
      "4478/4478 [==============================] - 0s 24us/step - loss: 0.3370 - acc: 0.8785 - val_loss: 0.3322 - val_acc: 0.8787\n",
      "Epoch 26/50\n",
      "4478/4478 [==============================] - 0s 26us/step - loss: 0.3356 - acc: 0.8801 - val_loss: 0.3399 - val_acc: 0.8781\n",
      "Epoch 27/50\n",
      "4478/4478 [==============================] - 0s 25us/step - loss: 0.3391 - acc: 0.8785 - val_loss: 0.3459 - val_acc: 0.8752\n",
      "Epoch 28/50\n",
      "4478/4478 [==============================] - 0s 23us/step - loss: 0.3355 - acc: 0.8774 - val_loss: 0.3315 - val_acc: 0.8801\n",
      "Epoch 29/50\n",
      "4478/4478 [==============================] - 0s 25us/step - loss: 0.3330 - acc: 0.8799 - val_loss: 0.3301 - val_acc: 0.8801\n",
      "Epoch 30/50\n",
      "4478/4478 [==============================] - 0s 36us/step - loss: 0.3311 - acc: 0.8805 - val_loss: 0.3304 - val_acc: 0.8812\n",
      "Epoch 31/50\n",
      "4478/4478 [==============================] - 0s 40us/step - loss: 0.3316 - acc: 0.8805 - val_loss: 0.3294 - val_acc: 0.8808\n",
      "Epoch 32/50\n",
      "4478/4478 [==============================] - 0s 35us/step - loss: 0.3309 - acc: 0.8812 - val_loss: 0.3294 - val_acc: 0.8792\n",
      "Epoch 33/50\n",
      "4478/4478 [==============================] - 0s 25us/step - loss: 0.3327 - acc: 0.8792 - val_loss: 0.3342 - val_acc: 0.8785\n",
      "Epoch 34/50\n",
      "4478/4478 [==============================] - 0s 27us/step - loss: 0.3330 - acc: 0.8796 - val_loss: 0.3293 - val_acc: 0.8803\n",
      "Epoch 35/50\n",
      "4478/4478 [==============================] - 0s 22us/step - loss: 0.3311 - acc: 0.8810 - val_loss: 0.3282 - val_acc: 0.8812\n",
      "Epoch 36/50\n",
      "4478/4478 [==============================] - 0s 24us/step - loss: 0.3295 - acc: 0.8803 - val_loss: 0.3279 - val_acc: 0.8810\n",
      "Epoch 37/50\n",
      "4478/4478 [==============================] - 0s 24us/step - loss: 0.3285 - acc: 0.8830 - val_loss: 0.3313 - val_acc: 0.8801\n",
      "Epoch 38/50\n",
      "4478/4478 [==============================] - 0s 22us/step - loss: 0.3304 - acc: 0.8794 - val_loss: 0.3279 - val_acc: 0.8816\n",
      "Epoch 39/50\n",
      "4478/4478 [==============================] - 0s 22us/step - loss: 0.3307 - acc: 0.8819 - val_loss: 0.3307 - val_acc: 0.8796\n",
      "Epoch 40/50\n",
      "4478/4478 [==============================] - 0s 23us/step - loss: 0.3308 - acc: 0.8790 - val_loss: 0.3274 - val_acc: 0.8810\n",
      "Epoch 41/50\n",
      "4478/4478 [==============================] - 0s 24us/step - loss: 0.3281 - acc: 0.8803 - val_loss: 0.3272 - val_acc: 0.8819\n",
      "Epoch 42/50\n",
      "4478/4478 [==============================] - 0s 23us/step - loss: 0.3288 - acc: 0.8805 - val_loss: 0.3263 - val_acc: 0.8814\n",
      "Epoch 43/50\n",
      "4478/4478 [==============================] - 0s 23us/step - loss: 0.3279 - acc: 0.8823 - val_loss: 0.3340 - val_acc: 0.8785\n",
      "Epoch 44/50\n",
      "4478/4478 [==============================] - 0s 30us/step - loss: 0.3307 - acc: 0.8794 - val_loss: 0.3267 - val_acc: 0.8805\n",
      "Epoch 45/50\n",
      "4478/4478 [==============================] - 0s 24us/step - loss: 0.3286 - acc: 0.8808 - val_loss: 0.3266 - val_acc: 0.8819\n",
      "Epoch 46/50\n",
      "4478/4478 [==============================] - 0s 31us/step - loss: 0.3273 - acc: 0.8810 - val_loss: 0.3258 - val_acc: 0.8814\n",
      "Epoch 47/50\n",
      "4478/4478 [==============================] - 0s 28us/step - loss: 0.3274 - acc: 0.8812 - val_loss: 0.3277 - val_acc: 0.8799\n",
      "Epoch 48/50\n",
      "4478/4478 [==============================] - 0s 29us/step - loss: 0.3279 - acc: 0.8812 - val_loss: 0.3291 - val_acc: 0.8810\n",
      "Epoch 49/50\n",
      "4478/4478 [==============================] - 0s 28us/step - loss: 0.3289 - acc: 0.8808 - val_loss: 0.3252 - val_acc: 0.8812\n",
      "Epoch 50/50\n",
      "4478/4478 [==============================] - 0s 34us/step - loss: 0.3267 - acc: 0.8810 - val_loss: 0.3256 - val_acc: 0.8801\n"
     ]
    }
   ],
   "source": [
    "history = model.fit(xtrain,\n",
    "                    ytrain,\n",
    "                    epochs=50,\n",
    "                    batch_size=512,\n",
    "                    validation_data=(xtrain, ytrain))"
   ]
  },
  {
   "cell_type": "code",
   "execution_count": 12,
   "metadata": {},
   "outputs": [
    {
     "name": "stdout",
     "output_type": "stream",
     "text": [
      "1120/1120 [==============================] - 0s 26us/step\n"
     ]
    }
   ],
   "source": [
    "predictions = model.predict(xtest)\n",
    "score = model.evaluate(xtest,ytest)"
   ]
  },
  {
   "cell_type": "code",
   "execution_count": 13,
   "metadata": {},
   "outputs": [
    {
     "name": "stdout",
     "output_type": "stream",
     "text": [
      "Saved model to disk\n"
     ]
    }
   ],
   "source": [
    "model_json=model.to_json()\n",
    "with open(\"model.json\", \"w\") as json_file:\n",
    "    json_file.write(model_json)\n",
    "# serialize weights to HDF5\n",
    "model.save_weights(\"model.h5\")\n",
    "print(\"Saved model to disk\")"
   ]
  },
  {
   "cell_type": "code",
   "execution_count": 14,
   "metadata": {},
   "outputs": [
    {
     "name": "stdout",
     "output_type": "stream",
     "text": [
      "1120/1120 [==============================] - 0s 35us/step\n",
      "Test accuracy: 0.8758928571428571\n"
     ]
    }
   ],
   "source": [
    "test_loss, test_acc = model.evaluate(xtest, ytest)\n",
    "\n",
    "print('Test accuracy:', test_acc)"
   ]
  },
  {
   "cell_type": "code",
   "execution_count": 15,
   "metadata": {},
   "outputs": [
    {
     "name": "stdout",
     "output_type": "stream",
     "text": [
      "Accuracy of the model obtained is  87.58928571428571\n"
     ]
    }
   ],
   "source": [
    "print('Accuracy of the model obtained is ',score[1]*100)"
   ]
  },
  {
   "cell_type": "code",
   "execution_count": null,
   "metadata": {},
   "outputs": [],
   "source": []
  }
 ],
 "metadata": {
  "kernelspec": {
   "display_name": "Python 3",
   "language": "python",
   "name": "python3"
  },
  "language_info": {
   "codemirror_mode": {
    "name": "ipython",
    "version": 3
   },
   "file_extension": ".py",
   "mimetype": "text/x-python",
   "name": "python",
   "nbconvert_exporter": "python",
   "pygments_lexer": "ipython3",
   "version": "3.7.3"
  }
 },
 "nbformat": 4,
 "nbformat_minor": 2
}
